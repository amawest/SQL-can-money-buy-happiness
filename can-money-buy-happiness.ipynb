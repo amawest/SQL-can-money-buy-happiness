{
 "cells": [
  {
   "cell_type": "markdown",
   "metadata": {},
   "source": [
    "##### Import the libraries that will allow us to communicate with SQL (Python Magic)"
   ]
  },
  {
   "cell_type": "code",
   "execution_count": 1,
   "metadata": {},
   "outputs": [],
   "source": [
    "# load relevant libraries\n",
    "%load_ext sql\n",
    "import ibm_db\n",
    "import ibm_db_sa\n",
    "import sqlalchemy"
   ]
  },
  {
   "cell_type": "markdown",
   "metadata": {},
   "source": [
    "##### Now we have access to SQL magic. With our first SQL magic command, we'll connect to a Db2 database. Retrieve the information from \"uri:\", copying from your username onward (skip the db2://  !!) "
   ]
  },
  {
   "cell_type": "markdown",
   "metadata": {},
   "source": [
    "<a ><img src = \"https://ibm.box.com/shared/static/uy78gy1uq3uj6fkvd4muzy5zcr62tb72.png\" width = 1000, align = \"center\"></a>"
   ]
  },
  {
   "cell_type": "code",
   "execution_count": 39,
   "metadata": {},
   "outputs": [],
   "source": [
    "# for example, if your credentials are as in the screenshot above, you would write:\n",
    "# %sql ibm_db_sa://my-username:my-password@dashdb-txn-sbox-yp-dal09-03.services.dal.bluemix.net:50000/BLUDB"
   ]
  },
  {
   "cell_type": "markdown",
   "metadata": {},
   "source": [
    "##### As a note, we can use %%sql at the top of a cell to indicate we want the ENTIRE cell to be treated as SQL.\n",
    "##### Let's make sure the data is reading in A.O.K. "
   ]
  },
  {
   "cell_type": "code",
   "execution_count": 10,
   "metadata": {},
   "outputs": [
    {
     "name": "stdout",
     "output_type": "stream",
     "text": [
      " * ibm_db_sa://xkv89398:***@dashdb-txn-sbox-yp-dal09-04.services.dal.bluemix.net:50000/BLUDB\n",
      "Done.\n"
     ]
    },
    {
     "data": {
      "text/html": [
       "<table>\n",
       "    <tr>\n",
       "        <th>gdp_per_capita</th>\n",
       "        <th>literacy</th>\n",
       "        <th>infant_mortality_per_1000</th>\n",
       "        <th>net_migration</th>\n",
       "        <th>country</th>\n",
       "        <th>happiness_rank</th>\n",
       "        <th>happiness_score</th>\n",
       "        <th>whisker_high</th>\n",
       "        <th>whisker_low</th>\n",
       "        <th>economy__gdp_per_capita_</th>\n",
       "        <th>family</th>\n",
       "        <th>health__life_expectancy_</th>\n",
       "        <th>freedom</th>\n",
       "        <th>generosity</th>\n",
       "        <th>trust__government_corruption_</th>\n",
       "        <th>dystopia_residual</th>\n",
       "    </tr>\n",
       "    <tr>\n",
       "        <td>800</td>\n",
       "        <td>80.60</td>\n",
       "        <td>88.29</td>\n",
       "        <td>0.00</td>\n",
       "        <td>Zambia</td>\n",
       "        <td>116</td>\n",
       "        <td>4.51</td>\n",
       "        <td>4.64</td>\n",
       "        <td>4.38</td>\n",
       "        <td>0.63</td>\n",
       "        <td>1.00</td>\n",
       "        <td>0.25</td>\n",
       "        <td>0.46</td>\n",
       "        <td>0.24</td>\n",
       "        <td>0.07</td>\n",
       "        <td>1.82</td>\n",
       "    </tr>\n",
       "    <tr>\n",
       "        <td>700</td>\n",
       "        <td>36.00</td>\n",
       "        <td>163.07</td>\n",
       "        <td>23.06</td>\n",
       "        <td>Afghanistan</td>\n",
       "        <td>141</td>\n",
       "        <td>3.79</td>\n",
       "        <td>3.87</td>\n",
       "        <td>3.71</td>\n",
       "        <td>0.40</td>\n",
       "        <td>0.58</td>\n",
       "        <td>0.18</td>\n",
       "        <td>0.10</td>\n",
       "        <td>0.31</td>\n",
       "        <td>0.06</td>\n",
       "        <td>2.15</td>\n",
       "    </tr>\n",
       "    <tr>\n",
       "        <td>4500</td>\n",
       "        <td>86.50</td>\n",
       "        <td>21.52</td>\n",
       "        <td>-4.93</td>\n",
       "        <td>Albania</td>\n",
       "        <td>109</td>\n",
       "        <td>4.64</td>\n",
       "        <td>4.75</td>\n",
       "        <td>4.53</td>\n",
       "        <td>0.99</td>\n",
       "        <td>0.80</td>\n",
       "        <td>0.73</td>\n",
       "        <td>0.38</td>\n",
       "        <td>0.20</td>\n",
       "        <td>0.03</td>\n",
       "        <td>1.49</td>\n",
       "    </tr>\n",
       "    <tr>\n",
       "        <td>6000</td>\n",
       "        <td>70.00</td>\n",
       "        <td>31.00</td>\n",
       "        <td>-0.39</td>\n",
       "        <td>Algeria</td>\n",
       "        <td>53</td>\n",
       "        <td>5.87</td>\n",
       "        <td>5.97</td>\n",
       "        <td>5.76</td>\n",
       "        <td>1.09</td>\n",
       "        <td>1.14</td>\n",
       "        <td>0.61</td>\n",
       "        <td>0.23</td>\n",
       "        <td>0.06</td>\n",
       "        <td>0.14</td>\n",
       "        <td>2.56</td>\n",
       "    </tr>\n",
       "    <tr>\n",
       "        <td>1900</td>\n",
       "        <td>42.00</td>\n",
       "        <td>191.19</td>\n",
       "        <td>0.00</td>\n",
       "        <td>Angola</td>\n",
       "        <td>140</td>\n",
       "        <td>3.79</td>\n",
       "        <td>3.95</td>\n",
       "        <td>3.63</td>\n",
       "        <td>0.85</td>\n",
       "        <td>1.10</td>\n",
       "        <td>0.04</td>\n",
       "        <td>0.00</td>\n",
       "        <td>0.09</td>\n",
       "        <td>0.06</td>\n",
       "        <td>1.61</td>\n",
       "    </tr>\n",
       "    <tr>\n",
       "        <td>11200</td>\n",
       "        <td>97.10</td>\n",
       "        <td>15.18</td>\n",
       "        <td>0.61</td>\n",
       "        <td>Argentina</td>\n",
       "        <td>24</td>\n",
       "        <td>6.59</td>\n",
       "        <td>6.69</td>\n",
       "        <td>6.50</td>\n",
       "        <td>1.18</td>\n",
       "        <td>1.44</td>\n",
       "        <td>0.69</td>\n",
       "        <td>0.49</td>\n",
       "        <td>0.10</td>\n",
       "        <td>0.05</td>\n",
       "        <td>2.61</td>\n",
       "    </tr>\n",
       "    <tr>\n",
       "        <td>3500</td>\n",
       "        <td>98.60</td>\n",
       "        <td>23.28</td>\n",
       "        <td>-6.47</td>\n",
       "        <td>Armenia</td>\n",
       "        <td>121</td>\n",
       "        <td>4.37</td>\n",
       "        <td>4.46</td>\n",
       "        <td>4.28</td>\n",
       "        <td>0.90</td>\n",
       "        <td>1.00</td>\n",
       "        <td>0.63</td>\n",
       "        <td>0.19</td>\n",
       "        <td>0.08</td>\n",
       "        <td>0.02</td>\n",
       "        <td>1.52</td>\n",
       "    </tr>\n",
       "    <tr>\n",
       "        <td>29000</td>\n",
       "        <td>100.00</td>\n",
       "        <td>4.69</td>\n",
       "        <td>3.98</td>\n",
       "        <td>Australia</td>\n",
       "        <td>10</td>\n",
       "        <td>7.28</td>\n",
       "        <td>7.35</td>\n",
       "        <td>7.21</td>\n",
       "        <td>1.48</td>\n",
       "        <td>1.51</td>\n",
       "        <td>0.84</td>\n",
       "        <td>0.60</td>\n",
       "        <td>0.47</td>\n",
       "        <td>0.30</td>\n",
       "        <td>2.06</td>\n",
       "    </tr>\n",
       "    <tr>\n",
       "        <td>30000</td>\n",
       "        <td>98.00</td>\n",
       "        <td>4.66</td>\n",
       "        <td>2.00</td>\n",
       "        <td>Austria</td>\n",
       "        <td>13</td>\n",
       "        <td>7.00</td>\n",
       "        <td>7.07</td>\n",
       "        <td>6.94</td>\n",
       "        <td>1.48</td>\n",
       "        <td>1.45</td>\n",
       "        <td>0.81</td>\n",
       "        <td>0.56</td>\n",
       "        <td>0.31</td>\n",
       "        <td>0.22</td>\n",
       "        <td>2.13</td>\n",
       "    </tr>\n",
       "    <tr>\n",
       "        <td>3400</td>\n",
       "        <td>97.00</td>\n",
       "        <td>81.74</td>\n",
       "        <td>-4.90</td>\n",
       "        <td>Azerbaijan</td>\n",
       "        <td>85</td>\n",
       "        <td>5.23</td>\n",
       "        <td>5.29</td>\n",
       "        <td>5.16</td>\n",
       "        <td>1.15</td>\n",
       "        <td>1.15</td>\n",
       "        <td>0.54</td>\n",
       "        <td>0.39</td>\n",
       "        <td>0.04</td>\n",
       "        <td>0.18</td>\n",
       "        <td>1.76</td>\n",
       "    </tr>\n",
       "</table>"
      ],
      "text/plain": [
       "[(800, Decimal('80.60'), Decimal('88.29'), Decimal('0.00'), 'Zambia', 116, Decimal('4.51'), Decimal('4.64'), Decimal('4.38'), Decimal('0.63'), Decimal('1.00'), Decimal('0.25'), Decimal('0.46'), Decimal('0.24'), Decimal('0.07'), Decimal('1.82')),\n",
       " (700, Decimal('36.00'), Decimal('163.07'), Decimal('23.06'), 'Afghanistan', 141, Decimal('3.79'), Decimal('3.87'), Decimal('3.71'), Decimal('0.40'), Decimal('0.58'), Decimal('0.18'), Decimal('0.10'), Decimal('0.31'), Decimal('0.06'), Decimal('2.15')),\n",
       " (4500, Decimal('86.50'), Decimal('21.52'), Decimal('-4.93'), 'Albania', 109, Decimal('4.64'), Decimal('4.75'), Decimal('4.53'), Decimal('0.99'), Decimal('0.80'), Decimal('0.73'), Decimal('0.38'), Decimal('0.20'), Decimal('0.03'), Decimal('1.49')),\n",
       " (6000, Decimal('70.00'), Decimal('31.00'), Decimal('-0.39'), 'Algeria', 53, Decimal('5.87'), Decimal('5.97'), Decimal('5.76'), Decimal('1.09'), Decimal('1.14'), Decimal('0.61'), Decimal('0.23'), Decimal('0.06'), Decimal('0.14'), Decimal('2.56')),\n",
       " (1900, Decimal('42.00'), Decimal('191.19'), Decimal('0.00'), 'Angola', 140, Decimal('3.79'), Decimal('3.95'), Decimal('3.63'), Decimal('0.85'), Decimal('1.10'), Decimal('0.04'), Decimal('0.00'), Decimal('0.09'), Decimal('0.06'), Decimal('1.61')),\n",
       " (11200, Decimal('97.10'), Decimal('15.18'), Decimal('0.61'), 'Argentina', 24, Decimal('6.59'), Decimal('6.69'), Decimal('6.50'), Decimal('1.18'), Decimal('1.44'), Decimal('0.69'), Decimal('0.49'), Decimal('0.10'), Decimal('0.05'), Decimal('2.61')),\n",
       " (3500, Decimal('98.60'), Decimal('23.28'), Decimal('-6.47'), 'Armenia', 121, Decimal('4.37'), Decimal('4.46'), Decimal('4.28'), Decimal('0.90'), Decimal('1.00'), Decimal('0.63'), Decimal('0.19'), Decimal('0.08'), Decimal('0.02'), Decimal('1.52')),\n",
       " (29000, Decimal('100.00'), Decimal('4.69'), Decimal('3.98'), 'Australia', 10, Decimal('7.28'), Decimal('7.35'), Decimal('7.21'), Decimal('1.48'), Decimal('1.51'), Decimal('0.84'), Decimal('0.60'), Decimal('0.47'), Decimal('0.30'), Decimal('2.06')),\n",
       " (30000, Decimal('98.00'), Decimal('4.66'), Decimal('2.00'), 'Austria', 13, Decimal('7.00'), Decimal('7.07'), Decimal('6.94'), Decimal('1.48'), Decimal('1.45'), Decimal('0.81'), Decimal('0.56'), Decimal('0.31'), Decimal('0.22'), Decimal('2.13')),\n",
       " (3400, Decimal('97.00'), Decimal('81.74'), Decimal('-4.90'), 'Azerbaijan', 85, Decimal('5.23'), Decimal('5.29'), Decimal('5.16'), Decimal('1.15'), Decimal('1.15'), Decimal('0.54'), Decimal('0.39'), Decimal('0.04'), Decimal('0.18'), Decimal('1.76'))]"
      ]
     },
     "execution_count": 10,
     "metadata": {},
     "output_type": "execute_result"
    }
   ],
   "source": [
    "%%sql\n",
    "select * from total_data\n",
    "limit 10"
   ]
  },
  {
   "cell_type": "markdown",
   "metadata": {},
   "source": [
    "##### To graph our columns, we'll need to convert what we'd like to graph into a dataframe in Python:"
   ]
  },
  {
   "cell_type": "code",
   "execution_count": 36,
   "metadata": {
    "scrolled": true
   },
   "outputs": [
    {
     "name": "stdout",
     "output_type": "stream",
     "text": [
      " * ibm_db_sa://xkv89398:***@dashdb-txn-sbox-yp-dal09-04.services.dal.bluemix.net:50000/BLUDB\n",
      "Done.\n"
     ]
    }
   ],
   "source": [
    "happiness_gdp = %sql SELECT gdp_per_capita, happiness_score from total_data;"
   ]
  },
  {
   "cell_type": "code",
   "execution_count": 44,
   "metadata": {
    "scrolled": true
   },
   "outputs": [
    {
     "name": "stdout",
     "output_type": "stream",
     "text": [
      " * ibm_db_sa://xkv89398:***@dashdb-txn-sbox-yp-dal09-04.services.dal.bluemix.net:50000/BLUDB\n",
      "Done.\n"
     ]
    },
    {
     "data": {
      "image/png": "[encoded data removed]",
      "text/plain": [
       "<Figure size 432x288 with 1 Axes>"
      ]
     },
     "metadata": {
      "needs_background": "light"
     },
     "output_type": "display_data"
    }
   ],
   "source": [
    "# create a dataframe in Python with the two rows you are looking to graph:\n",
    "happiness_gdp = %sql SELECT gdp_per_capita, happiness_score from total_data;\n",
    "dataframe = happiness_gdp.DataFrame()\n",
    "\n",
    "# import/install Seaborn \n",
    "# !pip install seaborn\n",
    "%matplotlib inline\n",
    "import seaborn\n",
    "\n",
    "# last but not least, plot! \n",
    "plot = seaborn.scatterplot(x='happiness_score',y='gdp_per_capita', data=dataframe)"
   ]
  },
  {
   "cell_type": "markdown",
   "metadata": {},
   "source": [
    "##### We did it!"
   ]
  }
 ],
 "metadata": {
  "kernelspec": {
   "display_name": "Python 3",
   "language": "python",
   "name": "python3"
  },
  "language_info": {
   "codemirror_mode": {
    "name": "ipython",
    "version": 3
   },
   "file_extension": ".py",
   "mimetype": "text/x-python",
   "name": "python",
   "nbconvert_exporter": "python",
   "pygments_lexer": "ipython3",
   "version": "3.7.6"
  }
 },
 "nbformat": 4,
 "nbformat_minor": 2
}
